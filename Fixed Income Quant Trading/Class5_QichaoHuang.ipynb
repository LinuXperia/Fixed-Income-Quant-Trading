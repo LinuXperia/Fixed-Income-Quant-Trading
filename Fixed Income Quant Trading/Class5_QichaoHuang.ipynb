{
 "cells": [
  {
   "cell_type": "code",
   "execution_count": 3,
   "metadata": {
    "collapsed": false
   },
   "outputs": [],
   "source": [
    "import numpy as np\n",
    "import pandas as pd\n",
    "import matplotlib.pyplot as plt\n",
    "import statsmodels as sm\n",
    "%matplotlib inline"
   ]
  },
  {
   "cell_type": "code",
   "execution_count": 9,
   "metadata": {
    "collapsed": false
   },
   "outputs": [],
   "source": [
    "data=pd.read_excel(\"CMT-all.xlsx\")\n",
    "data.set_index('Date',inplace=True)\n",
    "sample_q=data.ix['2014-01-01':'2016-12-31',['3M','2Y','5Y','7Y','10Y','30Y']]"
   ]
  },
  {
   "cell_type": "code",
   "execution_count": 10,
   "metadata": {
    "collapsed": false
   },
   "outputs": [
    {
     "data": {
      "text/html": [
       "<div>\n",
       "<table border=\"1\" class=\"dataframe\">\n",
       "  <thead>\n",
       "    <tr style=\"text-align: right;\">\n",
       "      <th></th>\n",
       "      <th>3M</th>\n",
       "      <th>2Y</th>\n",
       "      <th>5Y</th>\n",
       "      <th>7Y</th>\n",
       "      <th>10Y</th>\n",
       "      <th>30Y</th>\n",
       "    </tr>\n",
       "    <tr>\n",
       "      <th>Date</th>\n",
       "      <th></th>\n",
       "      <th></th>\n",
       "      <th></th>\n",
       "      <th></th>\n",
       "      <th></th>\n",
       "      <th></th>\n",
       "    </tr>\n",
       "  </thead>\n",
       "  <tbody>\n",
       "    <tr>\n",
       "      <th>2014-01-02</th>\n",
       "      <td>0.07</td>\n",
       "      <td>0.39</td>\n",
       "      <td>1.72</td>\n",
       "      <td>2.41</td>\n",
       "      <td>3.00</td>\n",
       "      <td>3.92</td>\n",
       "    </tr>\n",
       "    <tr>\n",
       "      <th>2014-01-03</th>\n",
       "      <td>0.07</td>\n",
       "      <td>0.41</td>\n",
       "      <td>1.73</td>\n",
       "      <td>2.42</td>\n",
       "      <td>3.01</td>\n",
       "      <td>3.93</td>\n",
       "    </tr>\n",
       "    <tr>\n",
       "      <th>2014-01-06</th>\n",
       "      <td>0.05</td>\n",
       "      <td>0.40</td>\n",
       "      <td>1.70</td>\n",
       "      <td>2.38</td>\n",
       "      <td>2.98</td>\n",
       "      <td>3.90</td>\n",
       "    </tr>\n",
       "    <tr>\n",
       "      <th>2014-01-07</th>\n",
       "      <td>0.04</td>\n",
       "      <td>0.40</td>\n",
       "      <td>1.69</td>\n",
       "      <td>2.37</td>\n",
       "      <td>2.96</td>\n",
       "      <td>3.88</td>\n",
       "    </tr>\n",
       "    <tr>\n",
       "      <th>2014-01-08</th>\n",
       "      <td>0.05</td>\n",
       "      <td>0.43</td>\n",
       "      <td>1.77</td>\n",
       "      <td>2.44</td>\n",
       "      <td>3.01</td>\n",
       "      <td>3.90</td>\n",
       "    </tr>\n",
       "  </tbody>\n",
       "</table>\n",
       "</div>"
      ],
      "text/plain": [
       "              3M    2Y    5Y    7Y   10Y   30Y\n",
       "Date                                          \n",
       "2014-01-02  0.07  0.39  1.72  2.41  3.00  3.92\n",
       "2014-01-03  0.07  0.41  1.73  2.42  3.01  3.93\n",
       "2014-01-06  0.05  0.40  1.70  2.38  2.98  3.90\n",
       "2014-01-07  0.04  0.40  1.69  2.37  2.96  3.88\n",
       "2014-01-08  0.05  0.43  1.77  2.44  3.01  3.90"
      ]
     },
     "execution_count": 10,
     "metadata": {},
     "output_type": "execute_result"
    }
   ],
   "source": [
    "sample_q.head()"
   ]
  },
  {
   "cell_type": "code",
   "execution_count": 11,
   "metadata": {
    "collapsed": true
   },
   "outputs": [],
   "source": [
    "def my_pca(data,num):\n",
    "    cov=data.cov()\n",
    "    xcv,vcv=np.linalg.eig(cov)\n",
    "    pca_factor=data.dot(vcv[:,:num])\n",
    "    return xcv,vcv[:,:num],pca_factor"
   ]
  },
  {
   "cell_type": "code",
   "execution_count": 13,
   "metadata": {
    "collapsed": false
   },
   "outputs": [
    {
     "name": "stdout",
     "output_type": "stream",
     "text": [
      "First two PCA factors:\n",
      "[[ 0.02843232  0.08647565]\n",
      " [ 0.26935452  0.60516704]\n",
      " [ 0.4703073   0.37814786]\n",
      " [ 0.50894877  0.10302118]\n",
      " [ 0.48942715 -0.19621304]\n",
      " [ 0.45484393 -0.65892799]]\n"
     ]
    }
   ],
   "source": [
    "dr=sample_q.diff()[1:]\n",
    "xcv_dr,vcv_dr,_=my_pca(dr,2)\n",
    "print 'First two PCA factors:\\n',vcv_dr[:,:2]"
   ]
  },
  {
   "cell_type": "code",
   "execution_count": 17,
   "metadata": {
    "collapsed": false
   },
   "outputs": [
    {
     "name": "stdout",
     "output_type": "stream",
     "text": [
      "For dr,the solution is:\n",
      "[ 0.54184373  0.51921049]\n",
      "The weight for 5Y: 0.541843728423,7Y: -1,10Y: 0.519210489443\n"
     ]
    }
   ],
   "source": [
    "X_dr=np.linalg.solve(vcv_dr[[2,4],:].T,vcv_dr[3,:])\n",
    "print \"For dr,the solution is:\\n\",X_dr\n",
    "print \"The weight for 5Y: {},7Y: {},10Y: {}\".format(X_dr[0],-1,X_dr[1])"
   ]
  }
 ],
 "metadata": {
  "kernelspec": {
   "display_name": "Python [conda root]",
   "language": "python",
   "name": "conda-root-py"
  },
  "language_info": {
   "codemirror_mode": {
    "name": "ipython",
    "version": 2
   },
   "file_extension": ".py",
   "mimetype": "text/x-python",
   "name": "python",
   "nbconvert_exporter": "python",
   "pygments_lexer": "ipython2",
   "version": "2.7.12"
  }
 },
 "nbformat": 4,
 "nbformat_minor": 0
}
