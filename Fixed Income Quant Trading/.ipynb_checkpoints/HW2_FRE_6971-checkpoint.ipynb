{
 "cells": [
  {
   "cell_type": "code",
   "execution_count": 2,
   "metadata": {
    "collapsed": true
   },
   "outputs": [],
   "source": [
    "import pandas as pd\n",
    "import numpy as np\n",
    "import scipy\n",
    "import matplotlib.pyplot as plt\n",
    "from numpy.linalg import eigh, inv\n",
    "import statsmodels.tsa.stattools as ts\n",
    "from sklearn.linear_model import LinearRegression"
   ]
  },
  {
   "cell_type": "markdown",
   "metadata": {},
   "source": [
    "### 1. Perform PCA decomposition using Sample1"
   ]
  },
  {
   "cell_type": "code",
   "execution_count": 3,
   "metadata": {
    "collapsed": false
   },
   "outputs": [
    {
     "name": "stdout",
     "output_type": "stream",
     "text": [
      "('The first two factors are: \\n', array([[-0.01612358,  0.0446742 ],\n",
      "       [ 0.08834891, -0.31313604],\n",
      "       [ 0.49612349, -0.49556528],\n",
      "       [ 0.57855181, -0.21474743],\n",
      "       [ 0.52415308,  0.23678659],\n",
      "       [ 0.36923886,  0.74308866]]), '\\n')\n",
      "('The (w1,w2) for butterfly porfolio weights computed by PCA are: \\n', (2.0385047343501377, 0.6029227586194853))\n"
     ]
    }
   ],
   "source": [
    "# Function to perform PCA via eigenvalue decomposition algorithm\n",
    "def PCA(df, components = None):\n",
    "    # Calculate the covariance matrix\n",
    "    df_cov = df.cov()\n",
    "    # Calculate eigenvalue and eigenvector\n",
    "    Eval, Evec = eigh(df_cov)\n",
    "    order = np.argsort(Eval)[::-1][:components]\n",
    "    Eval, Evec = Eval[order], Evec[:, order]\n",
    "    # Calculate transition\n",
    "    final = np.dot(Evec.T, df.T).T\n",
    "    return final, Eval, Evec\n",
    "\n",
    "# Upload data in 'CMT-all.xlsx' into pandas data frame\n",
    "di = '/users/Edith/Python/Data/'\n",
    "data = pd.read_excel(di+\"CMT-all.xlsx\", \n",
    "                   index_col = \"Date\",\n",
    "                   usecols = [\"Date\",\"3M\", \"2Y\",\"5Y\",\"7Y\",\"10Y\",\"30Y\"],\n",
    "                   na_values=['nan'])\n",
    "\n",
    "# Sample\n",
    "Sample1 = data.loc['20130101':'20141231']\n",
    "Sample2 = data.loc['20150101':'20161231']\n",
    "\n",
    "# Set the mean to zero\n",
    "Sample1_adjust = Sample1 - Sample1.mean()\n",
    "Sample2_adjust = Sample2 - Sample1.mean()\n",
    "\n",
    "# Perform PCA decomposition using Sample1_adjust\n",
    "PCA_S1 = PCA(Sample1_adjust, 2)\n",
    "C = PCA_S1[2]\n",
    "print('The first two factors are: \\n', C, '\\n')\n",
    "\n",
    "# Pick the 2Y, 5Y, 10Y data\n",
    "S = C[[1, 2, 4], :].T\n",
    "\n",
    "A = np.mat(np.vstack([S, [0, 1, 0]]))\n",
    "b = np.array([0, 0, -1]) \n",
    "x = np.linalg.solve(A,b) \n",
    "print('The (w1,w2) for butterfly porfolio weights computed by PCA are: \\n',(x[0], x[2]))"
   ]
  },
  {
   "cell_type": "markdown",
   "metadata": {},
   "source": [
    "To decompose the data by PCA, instead of using package, I define the function by myself. First, adjust the original data to zero mean, then calculate the eigenvalue and eigenvector of covariance matrix, the factors are computed by mutipilying the eigenvector and adjusted data.\n",
    "To make the weighted FLY PCA1,2 neutral, first choose the corresponding value in factors and then make the linear combination of partial derivatives to value with respect of factor 1 and 2 to zero, then we can get the weights."
   ]
  },
  {
   "cell_type": "markdown",
   "metadata": {
    "collapsed": true
   },
   "source": [
    "### 2. Compute Augmented Dickey-Fuller (ADF) test statistic for:  \n",
    "### (1) FLY in Sample1 , (2) PCA FLY in Sample1 , (3) FLY in Sample2 , (4) PCA FLY in Sample2 "
   ]
  },
  {
   "cell_type": "code",
   "execution_count": 4,
   "metadata": {
    "collapsed": false
   },
   "outputs": [
    {
     "name": "stdout",
     "output_type": "stream",
     "text": [
      "1. ADF test for FLY in Sample1:\n",
      "('adf: ', -1.4725249211623546)\n",
      "('p-value: ', 0.54705645747378495)\n",
      "('critical values: ', {'5%': -2.8673495105661462, '1%': -3.4435228622952065, '10%': -2.569864247011056})\n",
      "('Time series is nonstationary.', '\\n')\n",
      "Start testing 1-order difference series...\n",
      "('adf: ', -24.983095031542941)\n",
      "('p-value: ', 0.0)\n",
      "('critical values: ', {'5%': -2.8673612117611267, '1%': -3.4435494520411605, '10%': -2.5698704830567247})\n",
      "1-order difference series is stationary.\n",
      "\n",
      "\n",
      "2. ADF test for PCA FLY in Sample1:\n",
      "('adf: ', -4.976653051626335)\n",
      "('p-value: ', 2.4679546380046071e-05)\n",
      "('critical values: ', {'5%': -2.8673495105661462, '1%': -3.4435228622952065, '10%': -2.569864247011056})\n",
      "Time series is stationary.\n",
      "\n",
      "\n",
      "3. ADF test for FLY in Sample2:\n",
      "('adf: ', -1.7680735912330607)\n",
      "('p-value: ', 0.39642345962310011)\n",
      "('critical values: ', {'5%': -2.8673378563200003, '1%': -3.4434963794639999, '10%': -2.5698580359999998})\n",
      "('Time series is nonstationary.', '\\n')\n",
      "Start testing 1-order difference series...\n",
      "('adf: ', -24.983095031542941)\n",
      "('p-value: ', 0.0)\n",
      "('critical values: ', {'5%': -2.8673612117611267, '1%': -3.4435494520411605, '10%': -2.5698704830567247})\n",
      "1-order difference series is stationary.\n",
      "\n",
      "\n",
      "4. ADF test for PCA FLY in Sample2:\n",
      "('adf: ', -4.976653051626335)\n",
      "('p-value: ', 2.4679546380046071e-05)\n",
      "('critical values: ', {'5%': -2.8673495105661462, '1%': -3.4435228622952065, '10%': -2.569864247011056})\n",
      "Time series is stationary.\n"
     ]
    }
   ],
   "source": [
    "# Function for ADF test\n",
    "def ADF_test(data, lag=0):\n",
    "    adf = ts.adfuller(data, maxlag=lag)\n",
    "    print('adf: ', adf[0] )\n",
    "    print('p-value: ', adf[1])\n",
    "    print('critical values: ', adf[4])    \n",
    "    if adf[0]> adf[4]['5%']: \n",
    "        print('Time series is nonstationary.', '\\n')\n",
    "        # test for 1-order difference\n",
    "        print('Start testing 1-order difference series...')\n",
    "        temp = np.diff(Sample1_FLY)\n",
    "        adf_d = ts.adfuller(temp, maxlag=0)\n",
    "        print('adf: ', adf_d[0] )\n",
    "        print('p-value: ', adf_d[1])\n",
    "        print('critical values: ', adf_d[4])\n",
    "        if adf_d[0] > adf_d[4]['5%']: \n",
    "            print('1-order difference series is nonstationary.''\\n')\n",
    "            # test for 2-order difference\n",
    "            print('Start testing 1-order difference series...')\n",
    "            temp = np.diff(Sample1_FLY, n=2)\n",
    "            adf_d2 = ts.adfuller(temp, maxlag=lag)\n",
    "            print('adf: ', adf_d2[0] )\n",
    "            print('p-value: ', adf_d2[1])\n",
    "            print('Critical values: ', adf_d2[4])\n",
    "            if adf_d2[0] > adf_d2[4]['5%']: \n",
    "                print('2-order difference series is nonstationary.')\n",
    "            else:\n",
    "                print('2-order difference series is stationary.')\n",
    "        else:\n",
    "            print('1-order difference series is stationary.')\n",
    "    else:\n",
    "        print('Time series is stationary.')\n",
    "        \n",
    "# Prepare data to be tested\n",
    "Sample1_2Y5Y10Y = Sample1[[\"2Y\",\"5Y\",\"10Y\"]]\n",
    "Sample1_FLY = np.dot(Sample1_2Y5Y10Y, [1, -1, 1])\n",
    "Sample1_PCA_FLY = np.dot(Sample1_2Y5Y10Y, x)\n",
    "Sample2_2Y5Y10Y = Sample2[[\"2Y\",\"5Y\",\"10Y\"]]\n",
    "Sample2_FLY = np.dot(Sample2_2Y5Y10Y, [1, -1, 1])\n",
    "Sample2_PCA_FLY = np.dot(Sample1_2Y5Y10Y, x)\n",
    "\n",
    "# Test\n",
    "print('1. ADF test for FLY in Sample1:')\n",
    "ADF_test(Sample1_FLY)\n",
    "print('\\n\\n2. ADF test for PCA FLY in Sample1:')\n",
    "ADF_test(Sample1_PCA_FLY)\n",
    "print('\\n\\n3. ADF test for FLY in Sample2:')\n",
    "ADF_test(Sample2_FLY)\n",
    "print('\\n\\n4. ADF test for PCA FLY in Sample2:')\n",
    "ADF_test(Sample2_PCA_FLY)"
   ]
  },
  {
   "cell_type": "markdown",
   "metadata": {},
   "source": [
    "I define a function to perform stationary test by ADF. If the original data is not stationary, then test for the 1-order difference data, and then 2-order difference data. \n",
    "From the results, we can see that under 95% confidence level, the FLY in Sample1 is 1-order stationary, PCA FLY in Sample1 is stationary, FLY in Sample2 is 1-order stationary, PCA FLY in Sample2 is stationary."
   ]
  },
  {
   "cell_type": "markdown",
   "metadata": {},
   "source": [
    "### 3. Perform Cointegration analysis either by Box-Tiao in Sample1. Alternatively, compute a COINT FLY from a level regression."
   ]
  },
  {
   "cell_type": "code",
   "execution_count": 5,
   "metadata": {
    "collapsed": false
   },
   "outputs": [
    {
     "name": "stdout",
     "output_type": "stream",
     "text": [
      "('The (w1,w2) for butterfly porfolio weights computed by CCA are: \\n', (2.1261763831944926, 0.62668761077133206))\n",
      "('\\nThe (w1,w2) for butterfly porfolio weights computed by level regression are: \\n', (1.8343269691413886, 0.62525270878057082))\n"
     ]
    }
   ],
   "source": [
    "# Function to perform CCA via Box & Tiao decomposotion\n",
    "def CCA_BT(df):\n",
    "    # Calculate coefficient\n",
    "    df_cov = df.cov()\n",
    "    nsqrt = scipy.linalg.sqrtm(df_cov)\n",
    "    x = df[:-1]\n",
    "    y = df[1:]\n",
    "    lr = LinearRegression(fit_intercept=False)\n",
    "    v = lr.fit(x, y)\n",
    "    A = v.coef_\n",
    "    yp = np.dot(x, A)\n",
    "    sqrt2 = np.dot(y.T, y)\n",
    "     \n",
    "    # decompose\n",
    "    Q = inv(np.matrix(df_cov)) * np.matrix(A) * np.matrix(df_cov) * np.matrix(A.T)\n",
    "    Eval, Evec = eigh(Q) \n",
    "    order = np.argsort(Eval)[0]\n",
    "    Evec = Evec[:, order]\n",
    "    return nsqrt, Evec\n",
    "\n",
    "# Data to be decomposed\n",
    "data_cca = Sample1_adjust[[\"2Y\", \"5Y\", \"10Y\"]]\n",
    "r = CCA_BT(data_cca)\n",
    "\n",
    "# Compute the weights\n",
    "w = np.dot(inv(r[0]), r[1])\n",
    "w /= -w[1,0]\n",
    "print('The (w1,w2) for butterfly porfolio weights computed by CCA are: \\n',(w[0, 0], w[2, 0]))\n",
    "\n",
    "# Level regression\n",
    "l = LinearRegression()\n",
    "x = Sample1[[\"2Y\",\"10Y\"]]\n",
    "y = Sample1[\"5Y\"]\n",
    "l.fit(x, y)\n",
    "w = l.coef_\n",
    "print('\\nThe (w1,w2) for butterfly porfolio weights computed by level regression are: \\n', (w[0], w[1]))"
   ]
  },
  {
   "cell_type": "markdown",
   "metadata": {},
   "source": [
    "To decompose the data by CCA, instead of using package, I define the function by myself. First, adjust the original data to zero mean, then calculate the measure of relative predictibility, decompose it to get eigenvalue and eigenvector. Choose the eigenvector corresponding to the smallest eigenvalue of the matrix, multiplied by negative square root of covariance matrix, then we can get the weights and set the second weight to -1.\n",
    "\n",
    "To perform level regression, just do linear regression on 2Y10Y and 5Y."
   ]
  },
  {
   "cell_type": "markdown",
   "metadata": {},
   "source": [
    "### 4. Compute Augmented Dickey-Fuller (ADF) test statistic for:\n",
    "(1) COINT FLY in Sample1 , (2) COINT FLY in Sample2"
   ]
  },
  {
   "cell_type": "code",
   "execution_count": 6,
   "metadata": {
    "collapsed": false
   },
   "outputs": [
    {
     "name": "stdout",
     "output_type": "stream",
     "text": [
      "1. ADF test for COINT FLY in Sample1:\n",
      "('adf: ', -4.8021863720609872)\n",
      "('p-value: ', 5.3864588023024334e-05)\n",
      "('critical values: ', {'5%': -2.8673495105661462, '1%': -3.4435228622952065, '10%': -2.569864247011056})\n",
      "Time series is stationary.\n",
      "\n",
      "\n",
      "2. ADF test for COINT FLY in Sample2:\n",
      "('adf: ', -1.4958108616299031)\n",
      "('p-value: ', 0.53558261851374178)\n",
      "('critical values: ', {'5%': -2.8673378563200003, '1%': -3.4434963794639999, '10%': -2.5698580359999998})\n",
      "('Time series is nonstationary.', '\\n')\n",
      "Start testing 1-order difference series...\n",
      "('adf: ', -24.983095031542941)\n",
      "('p-value: ', 0.0)\n",
      "('critical values: ', {'5%': -2.8673612117611267, '1%': -3.4435494520411605, '10%': -2.5698704830567247})\n",
      "1-order difference series is stationary.\n"
     ]
    }
   ],
   "source": [
    "# Prepare data to be tested\n",
    "Sample1_COINT_FLY = np.dot(Sample1_2Y5Y10Y, [w[0], -1, w[1]])\n",
    "Sample2_COINT_FLY = np.dot(Sample2_2Y5Y10Y, [w[0], -1, w[1]])\n",
    "\n",
    "# Test\n",
    "print('1. ADF test for COINT FLY in Sample1:')\n",
    "ADF_test(Sample1_COINT_FLY)\n",
    "print('\\n\\n2. ADF test for COINT FLY in Sample2:')\n",
    "ADF_test(Sample2_COINT_FLY)"
   ]
  },
  {
   "cell_type": "markdown",
   "metadata": {},
   "source": [
    "From the ADF test, we can find that the COINT FLY is stationary in sample 1, but nonstationary in sample2. So we can find that the level regression is overfitting, which is not a good way to calculate the weights."
   ]
  },
  {
   "cell_type": "markdown",
   "metadata": {},
   "source": [
    "### Summary:"
   ]
  },
  {
   "cell_type": "markdown",
   "metadata": {},
   "source": [
    "From 1 to 4, I performed PCA, CCA and ADF test. By computing the weights of portfolio, I find that w1 should be around 2.00, w2 should be around 0.62. According to ADF test, original yields time series are always nonstationary but the 1-order difference series , but weighted yields series are always stationary  "
   ]
  },
  {
   "cell_type": "code",
   "execution_count": null,
   "metadata": {
    "collapsed": true
   },
   "outputs": [],
   "source": []
  }
 ],
 "metadata": {
  "anaconda-cloud": {},
  "kernelspec": {
   "display_name": "Python [default]",
   "language": "python",
   "name": "python2"
  },
  "language_info": {
   "codemirror_mode": {
    "name": "ipython",
    "version": 2
   },
   "file_extension": ".py",
   "mimetype": "text/x-python",
   "name": "python",
   "nbconvert_exporter": "python",
   "pygments_lexer": "ipython2",
   "version": "2.7.12"
  }
 },
 "nbformat": 4,
 "nbformat_minor": 2
}
