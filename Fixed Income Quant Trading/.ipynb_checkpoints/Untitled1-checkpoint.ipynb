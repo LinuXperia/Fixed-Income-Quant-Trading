{
 "cells": [
  {
   "cell_type": "code",
   "execution_count": 59,
   "metadata": {
    "collapsed": false
   },
   "outputs": [],
   "source": [
    "import numpy as np\n",
    "def word_count(filename):\n",
    "    count=[0]*62\n",
    "    count_all = 0\n",
    "    #count = {}\n",
    "    with open(filename) as f:\n",
    "        #data=f.readlines()\n",
    "        for line in f:\n",
    "            #count_all+=len(line)\n",
    "            for char in line:\n",
    "                count_all+=1\n",
    "                \n",
    "                if char>='a' and char<='z':\n",
    "                    count[ord(char)-ord('a')]+=1\n",
    "                elif char>='A' and char<='Z':\n",
    "                    count[26+ord(char)-ord('A')]+=1\n",
    "                elif char>='0' and char<='9':\n",
    "                    count[52+ord(char)-ord('0')]+=1\n",
    "    return count#,count_all\n",
    "\n"
   ]
  },
  {
   "cell_type": "code",
   "execution_count": 60,
   "metadata": {
    "collapsed": false,
    "scrolled": true
   },
   "outputs": [
    {
     "name": "stdout",
     "output_type": "stream",
     "text": [
      "a 260\n",
      "b 50\n",
      "c 137\n",
      "d 177\n",
      "e 479\n",
      "f 88\n",
      "g 83\n",
      "h 136\n",
      "i 305\n",
      "j 5\n",
      "k 31\n",
      "l 186\n",
      "m 87\n",
      "n 257\n",
      "o 256\n",
      "p 88\n",
      "q 3\n",
      "r 227\n",
      "s 251\n",
      "t 373\n",
      "u 84\n",
      "v 37\n",
      "w 44\n",
      "x 29\n",
      "y 68\n",
      "z 0\n",
      "A 9\n",
      "B 7\n",
      "C 9\n",
      "D 4\n",
      "E 6\n",
      "F 0\n",
      "G 6\n",
      "H 6\n",
      "I 6\n",
      "J 0\n",
      "K 0\n",
      "L 0\n",
      "M 0\n",
      "N 7\n",
      "O 6\n",
      "P 15\n",
      "Q 0\n",
      "R 7\n",
      "S 17\n",
      "T 7\n",
      "U 5\n",
      "V 0\n",
      "W 3\n",
      "X 0\n",
      "Y 4\n",
      "Z 0\n",
      "0 7\n",
      "1 29\n",
      "2 6\n",
      "3 3\n",
      "4 1\n",
      "5 4\n",
      "6 5\n",
      "7 11\n",
      "8 25\n",
      "9 20\n"
     ]
    }
   ],
   "source": [
    "def main():\n",
    "    words=word_count('4727.xml')\n",
    "    az = [chr(ord('a')+x) for x in range(26)]+[chr(ord('A')+x) for x in range(26)]+[chr(ord('0')+x) for x in range(10)]\n",
    "    for key,value in enumerate(az):\n",
    "        print value,words[key]\n",
    "    \n",
    "main()"
   ]
  },
  {
   "cell_type": "code",
   "execution_count": 47,
   "metadata": {
    "collapsed": false
   },
   "outputs": [
    {
     "name": "stdout",
     "output_type": "stream",
     "text": [
      "0 a\n",
      "1 b\n",
      "2 c\n",
      "3 d\n",
      "4 e\n",
      "5 f\n",
      "6 g\n",
      "7 h\n",
      "8 i\n",
      "9 j\n",
      "10 k\n",
      "11 l\n",
      "12 m\n",
      "13 n\n",
      "14 o\n",
      "15 p\n",
      "16 q\n",
      "17 r\n",
      "18 s\n",
      "19 t\n",
      "20 u\n",
      "21 v\n",
      "22 w\n",
      "23 x\n",
      "24 y\n",
      "25 z\n"
     ]
    }
   ],
   "source": [
    "az = [chr(ord('a')+x) for x in range(26)]\n",
    "for key,v in enumerate(a):\n",
    "    print key,v"
   ]
  },
  {
   "cell_type": "code",
   "execution_count": 35,
   "metadata": {
    "collapsed": false
   },
   "outputs": [
    {
     "ename": "TypeError",
     "evalue": "Required argument 'object' (pos 1) not found",
     "output_type": "error",
     "traceback": [
      "\u001b[0;31m---------------------------------------------------------------------------\u001b[0m",
      "\u001b[0;31mTypeError\u001b[0m                                 Traceback (most recent call last)",
      "\u001b[0;32m<ipython-input-35-4a4f6c3cea7d>\u001b[0m in \u001b[0;36m<module>\u001b[0;34m()\u001b[0m\n\u001b[0;32m----> 1\u001b[0;31m \u001b[0ma\u001b[0m\u001b[0;34m=\u001b[0m\u001b[0mnp\u001b[0m\u001b[0;34m.\u001b[0m\u001b[0marray\u001b[0m\u001b[0;34m(\u001b[0m\u001b[0msize\u001b[0m\u001b[0;34m=\u001b[0m\u001b[0;36m6\u001b[0m\u001b[0;34m)\u001b[0m\u001b[0;34m\u001b[0m\u001b[0m\n\u001b[0m\u001b[1;32m      2\u001b[0m \u001b[0ma\u001b[0m\u001b[0;34m\u001b[0m\u001b[0m\n",
      "\u001b[0;31mTypeError\u001b[0m: Required argument 'object' (pos 1) not found"
     ]
    }
   ],
   "source": [
    "a=np.array()\n",
    "a"
   ]
  },
  {
   "cell_type": "code",
   "execution_count": 22,
   "metadata": {
    "collapsed": false
   },
   "outputs": [
    {
     "data": {
      "text/plain": [
       "25"
      ]
     },
     "execution_count": 22,
     "metadata": {},
     "output_type": "execute_result"
    }
   ],
   "source": [
    "ord('z')-ord('a')"
   ]
  }
 ],
 "metadata": {
  "kernelspec": {
   "display_name": "Python [conda root]",
   "language": "python",
   "name": "conda-root-py"
  },
  "language_info": {
   "codemirror_mode": {
    "name": "ipython",
    "version": 2
   },
   "file_extension": ".py",
   "mimetype": "text/x-python",
   "name": "python",
   "nbconvert_exporter": "python",
   "pygments_lexer": "ipython2",
   "version": "2.7.12"
  }
 },
 "nbformat": 4,
 "nbformat_minor": 0
}
