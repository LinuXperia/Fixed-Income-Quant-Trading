{
 "cells": [
  {
   "cell_type": "code",
   "execution_count": 1,
   "metadata": {
    "collapsed": true
   },
   "outputs": [],
   "source": [
    "import pandas as pd\n",
    "import numpy as np\n",
    "from datetime import datetime"
   ]
  },
  {
   "cell_type": "code",
   "execution_count": 2,
   "metadata": {
    "collapsed": false
   },
   "outputs": [],
   "source": [
    "start=datetime.now()\n",
    "data=pd.read_csv(\"/Volumes/Macintosh HD/Users/huangqichao/Desktop/学术/NYU /Big Data/SPY_May_2012.csv\")"
   ]
  },
  {
   "cell_type": "code",
   "execution_count": 21,
   "metadata": {
    "collapsed": false
   },
   "outputs": [
    {
     "data": {
      "text/plain": [
       "(9153148, 15)"
      ]
     },
     "execution_count": 21,
     "metadata": {},
     "output_type": "execute_result"
    }
   ],
   "source": [
    "data.shape"
   ]
  },
  {
   "cell_type": "code",
   "execution_count": 3,
   "metadata": {
    "collapsed": false
   },
   "outputs": [],
   "source": [
    "data=data[data['Type']=='Trade']"
   ]
  },
  {
   "cell_type": "code",
   "execution_count": 4,
   "metadata": {
    "collapsed": false,
    "scrolled": true
   },
   "outputs": [
    {
     "data": {
      "text/html": [
       "<div>\n",
       "<table border=\"1\" class=\"dataframe\">\n",
       "  <thead>\n",
       "    <tr style=\"text-align: right;\">\n",
       "      <th></th>\n",
       "      <th>index</th>\n",
       "      <th>#RIC</th>\n",
       "      <th>Date[G]</th>\n",
       "      <th>Time[G]</th>\n",
       "      <th>GMT Offset</th>\n",
       "      <th>Type</th>\n",
       "      <th>Price</th>\n",
       "      <th>Volume</th>\n",
       "      <th>Market VWAP</th>\n",
       "      <th>Bid Price</th>\n",
       "      <th>Bid Size</th>\n",
       "      <th>Ask Price</th>\n",
       "      <th>Ask Size</th>\n",
       "      <th>Qualifiers</th>\n",
       "    </tr>\n",
       "  </thead>\n",
       "  <tbody>\n",
       "    <tr>\n",
       "      <th>0</th>\n",
       "      <td>296</td>\n",
       "      <td>SPY</td>\n",
       "      <td>01-MAY-2012</td>\n",
       "      <td>08:26:21.766</td>\n",
       "      <td>-4</td>\n",
       "      <td>Trade</td>\n",
       "      <td>140.00</td>\n",
       "      <td>200.0</td>\n",
       "      <td>NaN</td>\n",
       "      <td>NaN</td>\n",
       "      <td>NaN</td>\n",
       "      <td>NaN</td>\n",
       "      <td>NaN</td>\n",
       "      <td>T   [GV4_TEXT];131[IRGCOND];NBL[PRC_QL2]</td>\n",
       "    </tr>\n",
       "    <tr>\n",
       "      <th>1</th>\n",
       "      <td>362</td>\n",
       "      <td>SPY</td>\n",
       "      <td>01-MAY-2012</td>\n",
       "      <td>08:28:58.362</td>\n",
       "      <td>-4</td>\n",
       "      <td>Trade</td>\n",
       "      <td>139.96</td>\n",
       "      <td>100.0</td>\n",
       "      <td>NaN</td>\n",
       "      <td>NaN</td>\n",
       "      <td>NaN</td>\n",
       "      <td>NaN</td>\n",
       "      <td>NaN</td>\n",
       "      <td>T   [GV4_TEXT];131[IRGCOND];NBL[PRC_QL2]</td>\n",
       "    </tr>\n",
       "    <tr>\n",
       "      <th>2</th>\n",
       "      <td>363</td>\n",
       "      <td>SPY</td>\n",
       "      <td>01-MAY-2012</td>\n",
       "      <td>08:28:58.362</td>\n",
       "      <td>-4</td>\n",
       "      <td>Trade</td>\n",
       "      <td>139.96</td>\n",
       "      <td>200.0</td>\n",
       "      <td>NaN</td>\n",
       "      <td>NaN</td>\n",
       "      <td>NaN</td>\n",
       "      <td>NaN</td>\n",
       "      <td>NaN</td>\n",
       "      <td>T   [GV4_TEXT];131[IRGCOND];NBL[PRC_QL2]</td>\n",
       "    </tr>\n",
       "    <tr>\n",
       "      <th>3</th>\n",
       "      <td>384</td>\n",
       "      <td>SPY</td>\n",
       "      <td>01-MAY-2012</td>\n",
       "      <td>08:30:40.861</td>\n",
       "      <td>-4</td>\n",
       "      <td>Trade</td>\n",
       "      <td>139.95</td>\n",
       "      <td>100.0</td>\n",
       "      <td>NaN</td>\n",
       "      <td>NaN</td>\n",
       "      <td>NaN</td>\n",
       "      <td>NaN</td>\n",
       "      <td>NaN</td>\n",
       "      <td>T   [GV4_TEXT];131[IRGCOND];NBL[PRC_QL2]</td>\n",
       "    </tr>\n",
       "    <tr>\n",
       "      <th>4</th>\n",
       "      <td>885</td>\n",
       "      <td>SPY</td>\n",
       "      <td>01-MAY-2012</td>\n",
       "      <td>08:59:13.410</td>\n",
       "      <td>-4</td>\n",
       "      <td>Trade</td>\n",
       "      <td>139.93</td>\n",
       "      <td>200.0</td>\n",
       "      <td>NaN</td>\n",
       "      <td>NaN</td>\n",
       "      <td>NaN</td>\n",
       "      <td>NaN</td>\n",
       "      <td>NaN</td>\n",
       "      <td>T   [GV4_TEXT];131[IRGCOND];NBL[PRC_QL2]</td>\n",
       "    </tr>\n",
       "  </tbody>\n",
       "</table>\n",
       "</div>"
      ],
      "text/plain": [
       "   index #RIC      Date[G]       Time[G]  GMT Offset   Type   Price  Volume  \\\n",
       "0    296  SPY  01-MAY-2012  08:26:21.766          -4  Trade  140.00   200.0   \n",
       "1    362  SPY  01-MAY-2012  08:28:58.362          -4  Trade  139.96   100.0   \n",
       "2    363  SPY  01-MAY-2012  08:28:58.362          -4  Trade  139.96   200.0   \n",
       "3    384  SPY  01-MAY-2012  08:30:40.861          -4  Trade  139.95   100.0   \n",
       "4    885  SPY  01-MAY-2012  08:59:13.410          -4  Trade  139.93   200.0   \n",
       "\n",
       "   Market VWAP  Bid Price  Bid Size  Ask Price  Ask Size  \\\n",
       "0          NaN        NaN       NaN        NaN       NaN   \n",
       "1          NaN        NaN       NaN        NaN       NaN   \n",
       "2          NaN        NaN       NaN        NaN       NaN   \n",
       "3          NaN        NaN       NaN        NaN       NaN   \n",
       "4          NaN        NaN       NaN        NaN       NaN   \n",
       "\n",
       "                                   Qualifiers  \n",
       "0    T   [GV4_TEXT];131[IRGCOND];NBL[PRC_QL2]  \n",
       "1    T   [GV4_TEXT];131[IRGCOND];NBL[PRC_QL2]  \n",
       "2    T   [GV4_TEXT];131[IRGCOND];NBL[PRC_QL2]  \n",
       "3    T   [GV4_TEXT];131[IRGCOND];NBL[PRC_QL2]  \n",
       "4    T   [GV4_TEXT];131[IRGCOND];NBL[PRC_QL2]  "
      ]
     },
     "execution_count": 4,
     "metadata": {},
     "output_type": "execute_result"
    }
   ],
   "source": [
    "data.reset_index(inplace=True)\n",
    "data.head()"
   ]
  },
  {
   "cell_type": "code",
   "execution_count": 5,
   "metadata": {
    "collapsed": false,
    "scrolled": false
   },
   "outputs": [],
   "source": [
    "\"\"\"\n",
    "13:30-20:00\n",
    "every 15 min as an interval\n",
    "\"\"\"\n",
    "#data['Label']=np.nan\n",
    "# df=data['Time[G]']\n",
    "# int(df[0].split(':')[0])\n",
    "def set_label(row):\n",
    "    res=0\n",
    "    try:\n",
    "        tmp_list=map(int,row['Time[G]'].split(':')[:-1])\n",
    "    except:\n",
    "        return np.nan\n",
    "    if tmp_list[0]<13 or tmp_list[0]>20:\n",
    "        return np.nan\n",
    "    else:\n",
    "        res+=(tmp_list[0]-13)*4+int(tmp_list[1]/15)\n",
    "    return res\n",
    "        \n",
    "data['Label']=data.apply(set_label,axis=1)\n"
   ]
  },
  {
   "cell_type": "code",
   "execution_count": 6,
   "metadata": {
    "collapsed": false
   },
   "outputs": [],
   "source": [
    "grouped=data.groupby(['Label','Date[G]'])['Volume']\n",
    "vol_interval_day=grouped.sum()"
   ]
  },
  {
   "cell_type": "code",
   "execution_count": 7,
   "metadata": {
    "collapsed": false,
    "scrolled": true
   },
   "outputs": [],
   "source": [
    "def label_totime(label):\n",
    "    hour=str(int(label/4)+13-4)\n",
    "    minute=str((label-label/4*4)*15)\n",
    "    if minute=='0':\n",
    "        minute='00'\n",
    "    return hour+\":\"+minute\n",
    "trade_time=map(label_totime,range(32))"
   ]
  },
  {
   "cell_type": "code",
   "execution_count": 19,
   "metadata": {
    "collapsed": false
   },
   "outputs": [
    {
     "name": "stdout",
     "output_type": "stream",
     "text": [
      "['01-MAY-2012', '02-MAY-2012', '03-MAY-2012', '04-MAY-2012', '07-MAY-2012', '08-MAY-2012', '09-MAY-2012', '10-MAY-2012', '11-MAY-2012', '14-MAY-2012', '15-MAY-2012', '16-MAY-2012', '17-MAY-2012', '18-MAY-2012']\n"
     ]
    }
   ],
   "source": [
    "trade_day=list(vol_interval_day[1].index)[:14]\n",
    "print trade_day\n",
    "volume=[(i,vol_interval_day[i][trade_day].mean()) for i in range(32)]\n",
    "dict_volume=dict(volume)\n",
    "#dict_volume"
   ]
  },
  {
   "cell_type": "code",
   "execution_count": 9,
   "metadata": {
    "collapsed": false
   },
   "outputs": [
    {
     "name": "stderr",
     "output_type": "stream",
     "text": [
      "/Users/qichaohuang/anaconda/lib/python2.7/site-packages/matplotlib/font_manager.py:273: UserWarning: Matplotlib is building the font cache using fc-list. This may take a moment.\n",
      "  warnings.warn('Matplotlib is building the font cache using fc-list. This may take a moment.')\n"
     ]
    }
   ],
   "source": [
    "%matplotlib inline\n",
    "import matplotlib.pyplot as plt"
   ]
  },
  {
   "cell_type": "code",
   "execution_count": 10,
   "metadata": {
    "collapsed": false,
    "scrolled": true
   },
   "outputs": [
    {
     "data": {
      "image/png": "[encoded data removed]",
      "text/plain": [
       "<matplotlib.figure.Figure at 0x1141fab90>"
      ]
     },
     "metadata": {},
     "output_type": "display_data"
    }
   ],
   "source": [
    "plt.bar(zip(*volume)[0],zip(*volume)[1]);"
   ]
  },
  {
   "cell_type": "code",
   "execution_count": 11,
   "metadata": {
    "collapsed": false
   },
   "outputs": [],
   "source": [
    "def get_price(label):\n",
    "    return float(data[(data['Date[G]']=='21-MAY-2012') & (data['Label']==label)].head(1)['Price'])\n",
    "    \n",
    "price=[(i,get_price(i)) for i in range(32)]\n"
   ]
  },
  {
   "cell_type": "code",
   "execution_count": 12,
   "metadata": {
    "collapsed": false,
    "scrolled": false
   },
   "outputs": [
    {
     "data": {
      "image/png": "[encoded data removed]",
      "text/plain": [
       "<matplotlib.figure.Figure at 0x19e8e1c10>"
      ]
     },
     "metadata": {},
     "output_type": "display_data"
    }
   ],
   "source": [
    "plt.plot(zip(*price)[1]);"
   ]
  },
  {
   "cell_type": "code",
   "execution_count": 24,
   "metadata": {
    "collapsed": false
   },
   "outputs": [
    {
     "data": {
      "text/html": [
       "<div>\n",
       "<table border=\"1\" class=\"dataframe\">\n",
       "  <thead>\n",
       "    <tr style=\"text-align: right;\">\n",
       "      <th></th>\n",
       "      <th>index</th>\n",
       "      <th>#RIC</th>\n",
       "      <th>Date[G]</th>\n",
       "      <th>Time[G]</th>\n",
       "      <th>GMT Offset</th>\n",
       "      <th>Type</th>\n",
       "      <th>Price</th>\n",
       "      <th>Volume</th>\n",
       "      <th>Market VWAP</th>\n",
       "      <th>Bid Price</th>\n",
       "      <th>Bid Size</th>\n",
       "      <th>Ask Price</th>\n",
       "      <th>Ask Size</th>\n",
       "      <th>Qualifiers</th>\n",
       "      <th>Label</th>\n",
       "    </tr>\n",
       "  </thead>\n",
       "  <tbody>\n",
       "    <tr>\n",
       "      <th>26</th>\n",
       "      <td>1881</td>\n",
       "      <td>SPY</td>\n",
       "      <td>01-MAY-2012</td>\n",
       "      <td>10:34:56.366</td>\n",
       "      <td>-4</td>\n",
       "      <td>Trade</td>\n",
       "      <td>NaN</td>\n",
       "      <td>NaN</td>\n",
       "      <td>NaN</td>\n",
       "      <td>NaN</td>\n",
       "      <td>NaN</td>\n",
       "      <td>NaN</td>\n",
       "      <td>NaN</td>\n",
       "      <td>NBL[PRC_QL2]</td>\n",
       "      <td>NaN</td>\n",
       "    </tr>\n",
       "  </tbody>\n",
       "</table>\n",
       "</div>"
      ],
      "text/plain": [
       "    index #RIC      Date[G]       Time[G]  GMT Offset   Type  Price  Volume  \\\n",
       "26   1881  SPY  01-MAY-2012  10:34:56.366          -4  Trade    NaN     NaN   \n",
       "\n",
       "    Market VWAP  Bid Price  Bid Size  Ask Price  Ask Size    Qualifiers  Label  \n",
       "26          NaN        NaN       NaN        NaN       NaN  NBL[PRC_QL2]    NaN  "
      ]
     },
     "execution_count": 24,
     "metadata": {},
     "output_type": "execute_result"
    }
   ],
   "source": [
    "data[data['Time[G]']==\"10:34:56.366\"]"
   ]
  },
  {
   "cell_type": "code",
   "execution_count": 13,
   "metadata": {
    "collapsed": false
   },
   "outputs": [
    {
     "data": {
      "image/png": "[encoded data removed]",
      "text/plain": [
       "<matplotlib.figure.Figure at 0x1143e9710>"
      ]
     },
     "metadata": {},
     "output_type": "display_data"
    }
   ],
   "source": [
    "fig, ax1 = plt.subplots(figsize=(12,8))\n",
    "plt.title('Volume and Price')\n",
    "ax1.bar(zip(*volume)[0],zip(*volume)[1])\n",
    "ax1.set_ylabel(\"Volume\")\n",
    "ax1.set_xlim([0,31])\n",
    "ax1.tick_params('y', colors='b')\n",
    "ax1.set_xticklabels([trade_time[i] for i in range(0,35,5)])\n",
    "ax2=ax1.twinx()\n",
    "ax2.plot(zip(*price)[1],color='r')\n",
    "ax2.set_ylabel('Price')\n",
    "ax2.tick_params('y', colors='r')"
   ]
  },
  {
   "cell_type": "code",
   "execution_count": 14,
   "metadata": {
    "collapsed": true
   },
   "outputs": [],
   "source": [
    "\n",
    "import csv\n",
    "\n",
    "with open('test.csv', 'wb') as myfile:\n",
    "    wr = csv.writer(myfile, quoting=csv.QUOTE_ALL)\n",
    "    wr.writerow(trade_time)\n",
    "    wr.writerow(list(zip(*volume)[1]))\n",
    "    wr.writerow(list(zip(*price)[1]))\n"
   ]
  },
  {
   "cell_type": "code",
   "execution_count": 15,
   "metadata": {
    "collapsed": false
   },
   "outputs": [
    {
     "name": "stdout",
     "output_type": "stream",
     "text": [
      "time used is: 0:07:37.818962\n"
     ]
    }
   ],
   "source": [
    "print 'time used is:',datetime.now()-start"
   ]
  }
 ],
 "metadata": {
  "anaconda-cloud": {},
  "kernelspec": {
   "display_name": "Python [conda root]",
   "language": "python",
   "name": "conda-root-py"
  },
  "language_info": {
   "codemirror_mode": {
    "name": "ipython",
    "version": 2
   },
   "file_extension": ".py",
   "mimetype": "text/x-python",
   "name": "python",
   "nbconvert_exporter": "python",
   "pygments_lexer": "ipython2",
   "version": "2.7.12"
  }
 },
 "nbformat": 4,
 "nbformat_minor": 0
}
