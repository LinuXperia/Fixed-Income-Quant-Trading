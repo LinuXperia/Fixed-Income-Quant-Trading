{
 "cells": [
  {
   "cell_type": "markdown",
   "metadata": {},
   "source": [
    "## Problem1\n",
    "### Two factor ho lee model\n",
    "\\begin{equation}\n",
    "r(t) = x_1(t) + x_2(t) \\\\\n",
    "dx_1(t) = \\mu_1dt+\\sigma_1dW_1(t) \\\\\n",
    "dx_2(t) = \\mu_2dt+\\sigma_2dW_2(t) \\\\\n",
    "dW_1(t)dW_2(t) = \\rho dt\n",
    "\\end{equation}"
   ]
  },
  {
   "cell_type": "markdown",
   "metadata": {},
   "source": [
    "$L(t,T_1,T_2) = \\frac{1}{T2-T1}(\\frac{P(t,T1)}{P(t,T2)}-1)$ \n",
    "\n",
    "$ P(t,T) = E[e^{-\\int_t^Tr(s)ds}] $\n",
    "\n",
    "So we want to know the bond dynamics"
   ]
  },
  {
   "cell_type": "markdown",
   "metadata": {},
   "source": [
    "\\begin{equation}\n",
    "x_1(t) = x_1(0)+\\int_0^t\\mu_1ds+\\sigma_1\\int_0^tdW_1(s) = x_1(0)+\\mu_1t+\\sigma_1W_1(t) \\\\\n",
    "x_2(t) =  x_2(0)+\\mu_2t+\\sigma_2W_2(t) \\\\\n",
    "r(t) = x_1(0)+x_2(0)+(\\mu_1+\\mu_2)t+\\sigma_1W_1(t)+\\sigma_2W_2(t) \\\\\n",
    "r(T) = x_1(t)+x_2(t)+(\\mu_1+\\mu_2)(T-t)+\\sigma_1(W_1(T)-W_1(t))+\\sigma_2(W_2(T)-W_2(t))\n",
    "\\end{equation}"
   ]
  },
  {
   "cell_type": "markdown",
   "metadata": {},
   "source": [
    "Lemma1: $\\int_t^Tr(s)ds$ follows the normal distribution\n",
    "\n",
    "Prove:\n",
    "\n",
    "\\begin{align}\n",
    "    \\int_t^Tr(s)ds &= Tr(T)-tr(t)-\\int_t^Tsdr(s) \\\\\n",
    "                   &= Tr(T)-tr(t)-\\int_t^Ts((\\mu1+\\mu2)ds+\\sigma_1dW_1(s)+\\sigma_2dW_2(s)) \\\\\n",
    "                   &= T(r(t)+(\\mu_1+\\mu_2)(T-t)+\\sigma_1(W_1(T)-W_1(t))+\\sigma_2(W_2(T)-W_2(t)))-tr(t)-\\frac{1}{2}(T^2-t^2)(\\mu1+\\mu2)-\\sigma_1\\int_t^TsdW_1(s)-\\sigma_2\\int_t^TsdW_2(s) \\\\\n",
    "                   &= \\frac{1}{2}(T-t)^2(\\mu1+\\mu2)+(T-t)r(t)+\\sigma_1\\int_t^T(T-s)dW_1(s)+\\sigma_2\\int_t^T(T-s)dW_2(s)\n",
    "\\end{align}\n",
    "\n",
    "The sum of joint normal two random variables is normal.\n",
    "\n",
    "\\begin{align}\n",
    "    M = E(\\int_t^Tr(s)ds) &= \\frac{1}{2}(T-t)^2(\\mu1+\\mu2)+(T-t)r(t)\\\\\n",
    "    V = Var(\\int_t^Tr(s)ds) &= \\sigma_1^2\\int_t^T(T-s)^2ds + \\sigma_2^2\\int_t^T(T-s)^2ds +2\\rho \\sigma_1\\sigma_2\\int_t^T(T-s)^2ds\\\\\n",
    "                        &=  \\frac{1}{3}(T-t)^3(\\sigma_1^2+\\sigma_2^2+2\\rho \\sigma_1\\sigma_2) \\\\\n",
    "\\mbox{The bond dynamcis are given by} \\\\\n",
    "    P(t,T) &= E[e^{-\\int_t^Tr(s)ds}] \\\\\n",
    "       &= e^{-M+0.5V} \\\\\n",
    "       &= e^{-\\frac{1}{2}(T^2-t^2)(\\mu1+\\mu2)-(T-t)r(t)+\\frac{1}{6}(T-t)^3(\\sigma_1^2+\\sigma_2^2+2\\rho \\sigma_1\\sigma_2)} \\\\\n",
    "       &= e^{-\\frac{1}{2}(T^2-t^2)(\\mu1+\\mu2)+\\frac{1}{6}(T-t)^3(\\sigma_1^2+\\sigma_2^2+2\\rho \\sigma_1\\sigma_2)-(T-t)r(t)}\n",
    "\\end{align}"
   ]
  },
  {
   "cell_type": "markdown",
   "metadata": {},
   "source": [
    "\n",
    "\n",
    "Set\n",
    "\\begin{align}\n",
    "    A(t,T) &= -\\frac{1}{2}(T-t)^2(\\mu1+\\mu2)+\\frac{1}{6}(T-t)^3(\\sigma_1^2+\\sigma_2^2+2\\rho \\sigma_1\\sigma_2) \\\\\n",
    "    B(t,T) &= T-t \\\\\n",
    "    P(t,T) &= e^{A(t,T)-B(t,T)r(t)}\n",
    "\\end{align}\n",
    "\n"
   ]
  },
  {
   "cell_type": "markdown",
   "metadata": {},
   "source": [
    "\\begin{align}\n",
    "L(t,T_1,T_2) &= \\frac{1}{T2-T1}(\\frac{P(t,T1)}{P(t,T2)}-1) \\\\\n",
    "             &= \\frac{1}{T2-T1}(\\frac{e^{A(t,T1)-B(t,T1)r(t)}}{e^{A(t,T2)-B(t,T2)r(t)}}-1) \\\\\n",
    "             &= \\frac{1}{T2-T1}(e^{(A(t,T1)-A(t,T2))-(B(t,T1)-B(t,T2))r(t)}-1) \\\\\n",
    "\\end{align}"
   ]
  },
  {
   "cell_type": "markdown",
   "metadata": {},
   "source": [
    "r(t) follows the normal distribution\n",
    "\\begin{align}\n",
    "M = E[(A(t,T1)-A(t,T2))-(B(t,T1)-B(t,T2))r(t)] &= (A(t,T1)-A(t,T2))-(B(t,T1)-B(t,T2))(r0+(\\mu1+\\mu2)t) \\\\\n",
    "V = Var((A(t,T1)-A(t,T2))-(B(t,T1)-B(t,T2))r(t)) &= (B(t,T1)-B(t,T2)^2(\\sigma_1^2+\\sigma_2^2+2\\rho \\sigma_1\\sigma_2)t\\\\\n",
    "Futures(0,T1,T2) &= E^Q[L(t,T1,T2)] \\\\\n",
    "                 &= E^Q[\\frac{1}{T2-T1}(e^{(A(t,T1)-A(t,T2))-(B(t,T1)-B(t,T2))r(t)}-1)] \\\\\n",
    "                 &= \\frac{1}{T2-T1}(E^Q[e^{(A(t,T1)-A(t,T2))-(B(t,T1)-B(t,T2))r(t)}]-1) \\\\\n",
    "                 &= \\frac{1}{T2-T1}(e^{M+0.5V}-1)\n",
    "\\end{align}"
   ]
  },
  {
   "cell_type": "markdown",
   "metadata": {},
   "source": [
    "\\begin{align}\n",
    "Vol(L(t,T1,T2)) &= \\frac{1}{\\sqrt{t}}\\sqrt{Var(L(t,T1,T2)} \\\\\n",
    "                &= \\frac{1}{\\sqrt{t}*(T2-T1)}\\sqrt{E(e^{2*(A(t,T1)-A(t,T2))-(B(t,T1)-B(t,T2))r(t)})-E(e^{(A(t,T1)-A(t,T2))-(B(t,T1)-B(t,T2))r(t)})} \\\\\n",
    "                &= \\frac{1}{\\sqrt{t}*(T2-T1)}\\sqrt{e^{2M+2V}-e^{2M+V}}\n",
    "\\end{align}"
   ]
  },
  {
   "cell_type": "markdown",
   "metadata": {},
   "source": [
    "### 2 calibrate the model parameter\n",
    "$\\alpha = \\{\\mu_1,\\mu_2,\\sigma_1,\\sigma_2,x_1(0),x_2(0)\\}$"
   ]
  },
  {
   "cell_type": "code",
   "execution_count": 1,
   "metadata": {
    "collapsed": false
   },
   "outputs": [
    {
     "name": "stderr",
     "output_type": "stream",
     "text": [
      "/Users/qichaohuang/anaconda/lib/python2.7/site-packages/matplotlib/font_manager.py:273: UserWarning: Matplotlib is building the font cache using fc-list. This may take a moment.\n",
      "  warnings.warn('Matplotlib is building the font cache using fc-list. This may take a moment.')\n"
     ]
    }
   ],
   "source": [
    "import numpy as np\n",
    "import pandas as pd\n",
    "import datetime\n",
    "from scipy.optimize import leastsq\n",
    "from scipy import optimize\n",
    "import matplotlib.pyplot as plt\n",
    "%matplotlib inline\n",
    "import numdifftools as nd"
   ]
  },
  {
   "cell_type": "code",
   "execution_count": 2,
   "metadata": {
    "collapsed": false,
    "scrolled": true
   },
   "outputs": [],
   "source": [
    "def A(t,T,para):\n",
    "    mu1,mu2,sig1,sig2,rho = para\n",
    "    return -0.5*(T-t)**2*(mu1+mu2)+1./6*(T-t)**3*(sig1**2+sig2**2+2*rho*sig1*sig2)\n",
    "\n",
    "def B(t,T):\n",
    "    return T-t\n",
    "\n",
    "def mean_r(t,r0,para,dist = 'Q'): \n",
    "    mu1,mu2,sig1,sig2,rho = para\n",
    "    m = r0+(mu1+mu2)*t\n",
    "    if (dist == 'F'):\n",
    "        m -= (sig1**2+sig2**2+2*rho*sig1*sig2) * pow(t,2)*0.5\n",
    "    return m\n",
    "\n",
    "#3 para\n",
    "def var_r(t,T,r0,para):\n",
    "    sig1,sig2,rho = para\n",
    "    return (sig1**2+sig2**2+2*rho*sig1*sig2)*(T-t)\n",
    "    \n",
    "def zero_bond(t,T,r_t0,para):\n",
    "    return np.exp(A(t,T,para)-B(t,T,para)*r_t0)\n",
    "\n",
    "def fwd_rate(t,T1,T2,r0,para,dist = 'Q'):\n",
    "    mu1,mu2,sig1,sig2,rho = para\n",
    "    m = (A(t,T1,para)-A(t,T2,para))-(B(t,T1)-B(t,T2))*mean_r(t,r0,para,dist)\n",
    "    v = var_r(0,t,r0,para[2:])*(B(t,T1)-B(t,T2))**2\n",
    "    return 1./0.25*(np.exp(m+v/2.)-1)\n",
    "\n",
    "#moment generation function is exp(tm+0.5sig^2t^2)\n",
    "def mgf(t,T1,T2,r0,para,k,dist = 'Q'):\n",
    "    A_diff = A(t,T1,para) - A(t,T2,para)\n",
    "    B_diff = B(t,T1) - B(t,T2)\n",
    "    m = A_diff - B_diff * mean_r(t,r0,para,dist)\n",
    "    v = var_r(0,t,r0,para[2:])*(B(t,T1)-B(t,T2))**2\n",
    "    return np.exp(k*(2*m+k*v)/2.)\n",
    "\n",
    "def fwd_rate_mean(t,T1,T2,r0,para,dist='Q',acrual=0.25):\n",
    "    m1 = mgf(t,T1,T2,r0,para,1,dist)\n",
    "    return 1/acrual*(m1-1)\n",
    "\n",
    "def fwd_rate_sig(t,T1,T2,r0,para,dist='Q',acrual=0.25):\n",
    "    m2 = mgf(t,T1,T2,r0,para,2,dist)\n",
    "    m1 = mgf(t,T1,T2,r0,para,1,dist)\n",
    "    e2 = m2 - m1**2\n",
    "    return 1/acrual*pow(e2,0.5)\n",
    "\n",
    "def error_function(para,dist = 'Q'):\n",
    "    tmp_para = para\n",
    "    r0=0.01\n",
    "    x = np.array([fwd_rate(t1,t1,t1+0.25,r0,tmp_para,dist ) for t1 in expire_list])\n",
    "    return x-future_rate\n",
    "\n",
    "def error_function_ridge(para,Lambda = 1.0,dist = 'Q'):\n",
    "    tmp_para = np.array(para)\n",
    "    r0=0.01\n",
    "    x = np.array([fwd_rate(t1,t1,t1+0.25,r0,tmp_para,dist) for t1 in expire_list])\n",
    "    return np.sum((x-future_rate)**2)+0.5*Lambda*np.sum(tmp_para**2)\n",
    "\n",
    "def cal_Jacobian(func,p0,epsilon):\n",
    "    return optimize.approx_fprime(np.array(p0),func,epsilon)\n",
    "\n",
    "def fun_jacobian (p0,func,**kwargs):\n",
    "    out=[]\n",
    "    #return cal_Jacobian(error_function,p0)\n",
    "    res = func(p0,**kwargs)\n",
    "    return nd.Gradient(func)(p0)\n",
    "\n",
    "#THE jacabian function\n",
    "def error_fun_jacobian (p0,dist='Q'):\n",
    "    res = error_function(p0,dist)\n",
    "    out = []\n",
    "    for i in range(len(res)):\n",
    "        f = lambda p0:error_function(p0,dist)[i]\n",
    "        out.append(optimize.approx_fprime(p0,f,1e-6))\n",
    "    return np.array(out)\n",
    "\n",
    "def cal_Jacobian_cond(J):\n",
    "    return np.linalg.cond(np.dot(J.T,J))\n"
   ]
  },
  {
   "cell_type": "code",
   "execution_count": 3,
   "metadata": {
    "collapsed": false
   },
   "outputs": [
    {
     "name": "stdout",
     "output_type": "stream",
     "text": [
      "expiry \n",
      "[ 0.21666667  0.46666667  0.71666667  0.96666667  1.21666667  1.46666667\n",
      "  1.71666667  1.96666667  2.21666667  2.46666667  2.71666667  2.96666667\n",
      "  3.21666667  3.46666667  3.71666667  3.96666667  4.21666667  4.46666667\n",
      "  4.71666667  4.96666667]\n",
      "\n",
      " future rate \n",
      "[ 0.01285  0.01425  0.0152   0.0161   0.0172   0.01825  0.0194   0.0201\n",
      "  0.0208   0.02145  0.02225  0.0227   0.02325  0.0237   0.0243   0.02465\n",
      "  0.02505  0.0255   0.026    0.02635]\n"
     ]
    }
   ],
   "source": [
    "expiry = (datetime.datetime(2017,6,21)-datetime.datetime(2017,4,4)).days/360.0\n",
    "expire_list = 0.25*np.arange(0,20)+expiry\n",
    "print \"expiry \\n\",expire_list\n",
    "y = \"1.285 1.425 1.52 1.61 1.72 1.825 1.94 2.01 2.08 2.145 2.225 2.27 2.325 2.37 2.43 2.465 2.505 2.55 2.6 2.635\"\n",
    "future_rate = np.array(map(float,y.split(\" \")))/100\n",
    "print \"\\n future rate \\n\",future_rate"
   ]
  },
  {
   "cell_type": "code",
   "execution_count": 5,
   "metadata": {
    "collapsed": false,
    "scrolled": true
   },
   "outputs": [
    {
     "name": "stdout",
     "output_type": "stream",
     "text": [
      "mu1 : 0.0128366415643\n",
      "mu2 : -0.00716335923019\n",
      "sig1 : 0.0572389014107\n",
      "sig2 : 0.0648313336511\n",
      "rho : -0.855550352871\n"
     ]
    },
    {
     "data": {
      "image/png": "[encoded data removed]",
      "text/plain": [
       "<matplotlib.figure.Figure at 0x11006d110>"
      ]
     },
     "metadata": {},
     "output_type": "display_data"
    }
   ],
   "source": [
    "#treat as forward rater\n",
    "r0 =0.01\n",
    "para_list_str = [\"mu1\",\"mu2\",\"sig1\",\"sig2\",\"rho\",\"r0\"]\n",
    "\n",
    "optimize_res = leastsq(error_function,x0=(0.01,-0.01,0.05,0.05,0.5),\n",
    "                       Dfun = error_fun_jacobian,args = ('F'),\n",
    "                       full_output=1)\n",
    "para_list = optimize_res[0]\n",
    "for x,y in zip(para_list_str,para_list):\n",
    "    print x,\":\",y\n",
    "optimize_future_rate = np.array([fwd_rate(t1,t1,t1+0.25,r0,para_list,dist = 'F') for t1 in expire_list])\n",
    "plt.plot(expire_list,future_rate*100,\".-\",\n",
    "         expire_list,optimize_future_rate*100,\".-\")\n",
    "plt.legend([\"Actual\",\"Fit\"],loc='best')\n",
    "plt.title(\"Least Square Result for Forward Rate\");"
   ]
  },
  {
   "cell_type": "code",
   "execution_count": 6,
   "metadata": {
    "collapsed": false
   },
   "outputs": [
    {
     "name": "stdout",
     "output_type": "stream",
     "text": [
      "condition number -2.90346280821e+23\n"
     ]
    }
   ],
   "source": [
    "Jacob = np.matrix(fun_jacobian(para_list,error_function,dist='F'))\n",
    "eig_value,eig_vector = np.linalg.eig(Jacob.T*Jacob)\n",
    "print \"condition number\",eig_value[0]/eig_value[-1]"
   ]
  },
  {
   "cell_type": "code",
   "execution_count": 7,
   "metadata": {
    "collapsed": false
   },
   "outputs": [],
   "source": [
    "def my_pca(cov,num):\n",
    "    xcv,vcv=np.linalg.eig(cov)\n",
    "    pca_factor=data.dot(vcv[:,:num])\n",
    "    return xcv,vcv[:,:num],pca_factor\n",
    "\n",
    "def Simple_PCA_Reduction(p0,y,Lambda,factor_num,tol=1e-6,maxIter = 500,dist = 'Q'):\n",
    "    count=0\n",
    "    for i in range(maxIter):\n",
    "        J = error_fun_jacobian(p0)\n",
    "        #print \"J\",J\n",
    "        H  = np.dot(J.T,J)\n",
    "        cov = np.cov(J.T)\n",
    "        xcv,vcv = np.linalg.eig(cov)\n",
    "        J_pca = np.dot(J,vcv[:,:factor_num])\n",
    "        p_pca = np.dot(p0,vcv[:,:factor_num])\n",
    "        e = y-error_function(p0,dist)\n",
    "        p1_pca = np.linalg.inv(np.dot(J_pca.T,J_pca)+Lambda*np.eye(factor_num)).dot(J_pca.T.dot(e))\n",
    "        p0 = np.dot(vcv[:,:factor_num],p1_pca)\n",
    "        print \"p0\",p0\n",
    "        if np.sum((error_function(p0)-y)**2)<tol:\n",
    "            print \"Success\"\n",
    "            return p0\n",
    "    return p0\n",
    "\n",
    "def Simple_Ridge_Regression(p0,y,Lambda,tol=1e-6,maxIter = 500,dist = 'Q'):\n",
    "    for i in range(maxIter):\n",
    "        J = error_fun_jacobian(p0)\n",
    "        H  = np.dot(J.T,J)\n",
    "        e = y-error_function(p0,dist)\n",
    "        p0 = np.linalg.inv(np.dot(J.T,J)+Lambda*np.eye(J.shape[1])).dot(J.T.dot(e))\n",
    "        if np.sum((error_function(p0)-y)**2)<tol:\n",
    "            print \"Success\"\n",
    "            return p0\n",
    "    return p0"
   ]
  },
  {
   "cell_type": "code",
   "execution_count": 8,
   "metadata": {
    "collapsed": false
   },
   "outputs": [
    {
     "name": "stdout",
     "output_type": "stream",
     "text": [
      "condition number [  0.00000000e+00   3.87055549e+02   4.82762909e-16   4.02750977e-28\n",
      "   0.00000000e+00]\n"
     ]
    }
   ],
   "source": [
    "#Simple_PCA_Reduction(p0,future_rate,0.0,2,dist='F')\n",
    "p0 = np.array([0.03,-0.01,0.05,0.05,0.5])\n",
    "p1 = Simple_Ridge_Regression(p0,future_rate,0.01,1e-6,maxIter = 100,dist = 'F')\n",
    "Jacob = np.matrix(fun_jacobian(p1,error_function,dist='F'))\n",
    "eig_value,eig_vector = np.linalg.eig(Jacob.T*Jacob)\n",
    "print \"condition number\",eig_value\n"
   ]
  },
  {
   "cell_type": "code",
   "execution_count": 9,
   "metadata": {
    "collapsed": false
   },
   "outputs": [
    {
     "name": "stdout",
     "output_type": "stream",
     "text": [
      "the condition number is 1383.42606193\n"
     ]
    },
    {
     "data": {
      "text/plain": [
       "array([  5.03878959e+02,   7.36509017e+01,   1.27879640e+00,\n",
       "         1.00332909e+00,   3.64225435e-01])"
      ]
     },
     "execution_count": 9,
     "metadata": {},
     "output_type": "execute_result"
    }
   ],
   "source": [
    "Jacob = np.matrix(optimize_res[2]['fjac'].T)\n",
    "eig_value,eig_vector = np.linalg.eig(Jacob.T*Jacob)\n",
    "print \"the condition number is\",eig_value[0]/eig_value[-1]\n",
    "eig_value"
   ]
  },
  {
   "cell_type": "code",
   "execution_count": 12,
   "metadata": {
    "collapsed": false
   },
   "outputs": [
    {
     "name": "stdout",
     "output_type": "stream",
     "text": [
      "the parameter is:  [  1.86505206e-03   1.86505168e-03  -2.87435468e-08  -2.87442263e-08\n",
      "   1.20378940e-08]\n"
     ]
    },
    {
     "data": {
      "image/png": "[encoded data removed]",
      "text/plain": [
       "<matplotlib.figure.Figure at 0x1100826d0>"
      ]
     },
     "metadata": {},
     "output_type": "display_data"
    }
   ],
   "source": [
    "#use the minimize and change the objective function with penalty\n",
    "from scipy.optimize import minimize\n",
    "res = minimize(error_function_ridge,x0=(0.01,-0.01,0.05,0.05,0.5),args=(1,'F'))\n",
    "x = res.x\n",
    "print \"the parameter is: \",x\n",
    "optimize_future_rate_1 = np.array([fwd_rate(t1,t1,t1+0.25,r0,x,dist = 'F') for t1 in expire_list])\n",
    "plt.plot(expire_list,future_rate*100,\".-\",\n",
    "         expire_list,optimize_future_rate_1*100,\".-\")\n",
    "plt.legend([\"Actual\",\"Fit\"],loc='best')\n",
    "plt.title(\"Least Square Result\");"
   ]
  },
  {
   "cell_type": "code",
   "execution_count": 13,
   "metadata": {
    "collapsed": false,
    "scrolled": false
   },
   "outputs": [
    {
     "data": {
      "text/plain": [
       "array([  3.83016440e+02,   0.00000000e+00,   1.98520200e-17,\n",
       "         3.28085756e-26,   0.00000000e+00])"
      ]
     },
     "execution_count": 13,
     "metadata": {},
     "output_type": "execute_result"
    }
   ],
   "source": [
    "Jacob = np.matrix(fun_jacobian(x,error_function,dist='F'))\n",
    "eig_value,eig_vector = np.linalg.eig(Jacob.T*Jacob)\n",
    "eig_value"
   ]
  },
  {
   "cell_type": "markdown",
   "metadata": {},
   "source": [
    "You could see that using our jacobian matrix, it is slow and do not get a good result. So it's better use the kacobian in the package."
   ]
  },
  {
   "cell_type": "markdown",
   "metadata": {},
   "source": [
    "Basically, all the volatility and correlation is so small that the model degenerates to a constant rate model."
   ]
  },
  {
   "cell_type": "markdown",
   "metadata": {},
   "source": [
    "$$y_t(\\tau)=\\beta_{1t}+\\beta_{2t}(\\frac{1-e^{-\\lambda\\tau}}{\\lambda\\tau})+\n",
    "\\beta_{3t}(\\frac{1-e^{-\\lambda\\tau}}{\\lambda\\tau}-e^{-\\lambda\\tau})$$"
   ]
  },
  {
   "cell_type": "markdown",
   "metadata": {},
   "source": [
    "### 3 DNS"
   ]
  },
  {
   "cell_type": "code",
   "execution_count": 14,
   "metadata": {
    "collapsed": false
   },
   "outputs": [
    {
     "name": "stdout",
     "output_type": "stream",
     "text": [
      "the beta coef is [ 0.03518402 -0.02358604 -0.00028638] condition number is: 52.1961174572 \n",
      "So there is no need to use the ridge regression or PCA reduction\n"
     ]
    },
    {
     "data": {
      "image/png": "[encoded data removed]",
      "text/plain": [
       "<matplotlib.figure.Figure at 0x112844910>"
      ]
     },
     "metadata": {},
     "output_type": "display_data"
    }
   ],
   "source": [
    "Lambda = 0.492\n",
    "time_lam = expire_list*Lambda\n",
    "X=np.array([[1.,(1-np.exp(-tmp))/tmp,(1-np.exp(-tmp))/tmp-np.exp(-tmp)] for tmp in time_lam])\n",
    "\n",
    "def Ridge_Regression(x,y,Lambda):\n",
    "    tmp1 = np.linalg.inv(np.dot(x.T,x)+Lambda*np.eye(x.shape[1]))\n",
    "    tmp2 = np.dot(x.T,y)\n",
    "    beta = np.dot(tmp1,tmp2)\n",
    "    eig,vec = np.linalg.eig(tmp1)\n",
    "    return beta,eig[0]/eig[-1]\n",
    "\n",
    "res = Ridge_Regression(X,future_rate,0.000)\n",
    "print \"the beta coef is\",res[0],\\\n",
    "\"condition number is:\",res[1],\\\n",
    "\"\\nSo there is no need to use the ridge regression or PCA reduction\"\n",
    "plt.plot(expire_list,future_rate,'.-',expire_list,np.dot(X,res[0]),'.-');\n",
    "plt.title(\"DNS result\");"
   ]
  },
  {
   "cell_type": "code",
   "execution_count": 15,
   "metadata": {
    "collapsed": false
   },
   "outputs": [
    {
     "data": {
      "text/html": [
       "<div>\n",
       "<table border=\"1\" class=\"dataframe\">\n",
       "  <thead>\n",
       "    <tr style=\"text-align: right;\">\n",
       "      <th></th>\n",
       "      <th>Vol</th>\n",
       "    </tr>\n",
       "    <tr>\n",
       "      <th>Maturity</th>\n",
       "      <th></th>\n",
       "    </tr>\n",
       "  </thead>\n",
       "  <tbody>\n",
       "    <tr>\n",
       "      <th>0.25</th>\n",
       "      <td>0.017831</td>\n",
       "    </tr>\n",
       "    <tr>\n",
       "      <th>0.50</th>\n",
       "      <td>0.023286</td>\n",
       "    </tr>\n",
       "    <tr>\n",
       "      <th>0.75</th>\n",
       "      <td>0.028577</td>\n",
       "    </tr>\n",
       "    <tr>\n",
       "      <th>1.00</th>\n",
       "      <td>0.033450</td>\n",
       "    </tr>\n",
       "    <tr>\n",
       "      <th>1.25</th>\n",
       "      <td>0.037477</td>\n",
       "    </tr>\n",
       "    <tr>\n",
       "      <th>1.50</th>\n",
       "      <td>0.040836</td>\n",
       "    </tr>\n",
       "    <tr>\n",
       "      <th>1.75</th>\n",
       "      <td>0.043592</td>\n",
       "    </tr>\n",
       "    <tr>\n",
       "      <th>2.00</th>\n",
       "      <td>0.046160</td>\n",
       "    </tr>\n",
       "    <tr>\n",
       "      <th>2.25</th>\n",
       "      <td>0.048212</td>\n",
       "    </tr>\n",
       "    <tr>\n",
       "      <th>2.50</th>\n",
       "      <td>0.049891</td>\n",
       "    </tr>\n",
       "    <tr>\n",
       "      <th>2.75</th>\n",
       "      <td>0.051133</td>\n",
       "    </tr>\n",
       "    <tr>\n",
       "      <th>3.00</th>\n",
       "      <td>0.052076</td>\n",
       "    </tr>\n",
       "    <tr>\n",
       "      <th>3.25</th>\n",
       "      <td>0.052507</td>\n",
       "    </tr>\n",
       "    <tr>\n",
       "      <th>3.50</th>\n",
       "      <td>0.052914</td>\n",
       "    </tr>\n",
       "    <tr>\n",
       "      <th>3.75</th>\n",
       "      <td>0.052679</td>\n",
       "    </tr>\n",
       "    <tr>\n",
       "      <th>4.00</th>\n",
       "      <td>0.052506</td>\n",
       "    </tr>\n",
       "    <tr>\n",
       "      <th>4.25</th>\n",
       "      <td>0.052489</td>\n",
       "    </tr>\n",
       "    <tr>\n",
       "      <th>4.50</th>\n",
       "      <td>0.052430</td>\n",
       "    </tr>\n",
       "    <tr>\n",
       "      <th>4.75</th>\n",
       "      <td>0.052260</td>\n",
       "    </tr>\n",
       "  </tbody>\n",
       "</table>\n",
       "</div>"
      ],
      "text/plain": [
       "               Vol\n",
       "Maturity          \n",
       "0.25      0.017831\n",
       "0.50      0.023286\n",
       "0.75      0.028577\n",
       "1.00      0.033450\n",
       "1.25      0.037477\n",
       "1.50      0.040836\n",
       "1.75      0.043592\n",
       "2.00      0.046160\n",
       "2.25      0.048212\n",
       "2.50      0.049891\n",
       "2.75      0.051133\n",
       "3.00      0.052076\n",
       "3.25      0.052507\n",
       "3.50      0.052914\n",
       "3.75      0.052679\n",
       "4.00      0.052506\n",
       "4.25      0.052489\n",
       "4.50      0.052430\n",
       "4.75      0.052260"
      ]
     },
     "execution_count": 15,
     "metadata": {},
     "output_type": "execute_result"
    }
   ],
   "source": [
    "vol = pd.read_csv(\"Final_CM_ED_Vol.csv\",header=None,index_col=[0],names=[\"Index\",\"Vol\"])\n",
    "vol[\"Maturity\"] = np.arange(1,20)*0.25\n",
    "vol['Vol'] = vol['Vol']/100\n",
    "vol.set_index('Maturity',inplace=True)\n",
    "vol"
   ]
  },
  {
   "cell_type": "code",
   "execution_count": 16,
   "metadata": {
    "collapsed": false,
    "scrolled": true
   },
   "outputs": [
    {
     "name": "stdout",
     "output_type": "stream",
     "text": [
      "parameter is: [ 0.22646656 -0.59213106  0.04641405  0.04641405 -0.65373376]\n"
     ]
    },
    {
     "data": {
      "image/png": "[encoded data removed]",
      "text/plain": [
       "<matplotlib.figure.Figure at 0x112bbc150>"
      ]
     },
     "metadata": {},
     "output_type": "display_data"
    }
   ],
   "source": [
    "def error_function_vol(para,dist = 'Q'):\n",
    "    tmp_para = para\n",
    "    r0=0.01\n",
    "    x = [fwd_rate_sig(T1,T1,T1+0.25,r0,tmp_para,dist,acrual=0.25) for T1 in np.arange(1,20)*0.25]\n",
    "    y = vol['Vol'].as_matrix()\n",
    "    return x-y\n",
    "\n",
    "res = leastsq(error_function_vol,x0=(0.05,-0.01,0.05,0.05,0.5),args='Q',ftol=1e-9,full_output=1)\n",
    "\n",
    "vol['Optimized'] = [fwd_rate_sig(T1,T1,T1+0.25,0.01,res[0],'Q',acrual=0.25) for T1 in np.arange(1,20)*0.25]\n",
    "vol.loc[:,['Vol','Optimized']].plot()\n",
    "print \"parameter is:\",res[0]"
   ]
  },
  {
   "cell_type": "code",
   "execution_count": 17,
   "metadata": {
    "collapsed": false
   },
   "outputs": [
    {
     "name": "stdout",
     "output_type": "stream",
     "text": [
      "the condition number is 106.22287137\n"
     ]
    }
   ],
   "source": [
    "Jacob = np.matrix(res[2]['fjac'].T)\n",
    "eig_value,eig_vector = np.linalg.eig(Jacob.T*Jacob)\n",
    "print \"the condition number is\",eig_value[0]/eig_value[-1]"
   ]
  },
  {
   "cell_type": "markdown",
   "metadata": {},
   "source": [
    "We could see that the condition number is less than 1000. So we don't need to use the ridge regression. "
   ]
  },
  {
   "cell_type": "code",
   "execution_count": 18,
   "metadata": {
    "collapsed": false,
    "scrolled": true
   },
   "outputs": [
    {
     "data": {
      "text/plain": [
       "<matplotlib.axes._subplots.AxesSubplot at 0x112a05f50>"
      ]
     },
     "execution_count": 18,
     "metadata": {},
     "output_type": "execute_result"
    },
    {
     "data": {
      "image/png": "[encoded data removed]",
      "text/plain": [
       "<matplotlib.figure.Figure at 0x112baf0d0>"
      ]
     },
     "metadata": {},
     "output_type": "display_data"
    }
   ],
   "source": [
    "def error_function_vol_square(para,Lambda,dist = 'Q'):\n",
    "    tmp_para = para\n",
    "    r0=0.01\n",
    "    x = [fwd_rate_sig(T1,T1,T1+0.25,r0,tmp_para,dist,acrual=0.25) for T1 in np.arange(1,20)*0.25]\n",
    "    y = vol['Vol'].as_matrix()\n",
    "    return np.sum((x-y)**2)+0.5*Lambda*np.sum(tmp_para**2)\n",
    "\n",
    "bnds = ((0,0.5),(-0.5,0.5),(0,0.7),(0,0.7),(-1,1))\n",
    "res = minimize(error_function_vol_square,x0=(0.03,-0.01,0.05,0.05,-0.5),args=5)#,bounds=bnds)\n",
    "\n",
    "vol['Optimized_Ridge'] = [fwd_rate_sig(T1,T1,T1+0.25,0.01,res.x,'Q',acrual=0.25) for T1 in np.arange(1,20)*0.25]\n",
    "vol.loc[:,['Vol','Optimized_Ridge']].plot()\n",
    "\n",
    "#[fwd_rate_sig(T1,T1,T1+0.25,0.01,res.x,'Q',acrual=0.25) for T1 in np.arange(1,20)*0.25]"
   ]
  },
  {
   "cell_type": "code",
   "execution_count": 19,
   "metadata": {
    "collapsed": false
   },
   "outputs": [
    {
     "name": "stdout",
     "output_type": "stream",
     "text": [
      "condition number 1.99066950155e+19\n"
     ]
    }
   ],
   "source": [
    "Jacob = fun_jacobian(res.x,error_function_vol)\n",
    "eig_value,eig_vector = np.linalg.eig(np.dot(Jacob.T,Jacob))\n",
    "print \"condition number\",eig_value[0]/eig_value[-1]"
   ]
  },
  {
   "cell_type": "markdown",
   "metadata": {},
   "source": [
    "We can see that the effect of ridge regression in this setting is limited. "
   ]
  },
  {
   "cell_type": "markdown",
   "metadata": {},
   "source": [
    "### 6 Joint Fit"
   ]
  },
  {
   "cell_type": "code",
   "execution_count": 20,
   "metadata": {
    "collapsed": false
   },
   "outputs": [
    {
     "name": "stdout",
     "output_type": "stream",
     "text": [
      "mu1 sensitivity to rate is 2.77159967648 sensitivity to vol is 0.0352549365675\n",
      "mu2 sensitivity to rate is 2.77159967648 sensitivity to vol is 0.0352549365674\n",
      "sig1 sensitivity to rate is 0.0095995052265 sensitivity to vol is 0.766359454343\n",
      "sig2 sensitivity to rate is 0.0095995052265 sensitivity to vol is 0.766359454343\n",
      "rho sensitivity to rate is 0.000575970313596 sensitivity to vol is 0.0459815672606\n"
     ]
    }
   ],
   "source": [
    "p0 = np.array([0.03,-0.01,0.03,0.03,-0.5])\n",
    "para_str = [\"mu1\",\"mu2\",\"sig1\",\"sig2\",\"rho\"]\n",
    "for str_,tmp1,tmp2 in zip(para_str,fun_jacobian(p0,error_function).mean(axis=0),\n",
    "                         fun_jacobian(p0,error_function_vol).mean(axis=0)):\n",
    "    print str_,\"sensitivity to rate is\",tmp1,\"sensitivity to vol is\",tmp2\n"
   ]
  },
  {
   "cell_type": "code",
   "execution_count": 21,
   "metadata": {
    "collapsed": true
   },
   "outputs": [],
   "source": [
    "def joint_fit(func1,func2,p0,tol = 1e-8,maxIter = 1000,**kwargs):\n",
    "    mu1,mu2,sig1,sig2,rho = p0\n",
    "    p0 = np.array(p0)\n",
    "    f = lambda x:func1((x[0],x[1],sig1,sig2,rho),dist = 'F')\n",
    "    g = lambda x:func2((mu1,mu2,x[0],x[1],x[2]),dist='F')\n",
    "    for i in range(maxIter):\n",
    "        sig1,sig2,rho = leastsq(g,x0=(sig1,sig2,rho))[0]\n",
    "        mu1,mu2 = leastsq(f,x0=[mu1,mu2])[0]\n",
    "        #print mu1,mu2,sig1,sig2,rho\n",
    "        p1 = np.array([mu1,mu2,sig1,sig2,rho]) \n",
    "        if np.sum((p1-p0)**2)<tol:\n",
    "            print \"Success\"\n",
    "            return p1\n",
    "        else:\n",
    "            i+=1\n",
    "            p0 = p1\n",
    "    print \"Fail to converge\"       \n",
    "    return p1"
   ]
  },
  {
   "cell_type": "code",
   "execution_count": 22,
   "metadata": {
    "collapsed": false
   },
   "outputs": [
    {
     "name": "stdout",
     "output_type": "stream",
     "text": [
      "Success\n",
      "[ 0.17745887 -0.17233598  0.03351719  0.02958751 -0.59995792]\n"
     ]
    },
    {
     "data": {
      "image/png": "[encoded data removed]",
      "text/plain": [
       "<matplotlib.figure.Figure at 0x112bd7190>"
      ]
     },
     "metadata": {},
     "output_type": "display_data"
    }
   ],
   "source": [
    "p_last = joint_fit(error_function,error_function_vol,p0)\n",
    "print p_last\n",
    "optimize_future_rate = np.array([fwd_rate(t1,t1,t1+0.25,r0,p_last,dist = 'F') for t1 in expire_list])\n",
    "\n",
    "fig,ax = plt.subplots(2,figsize=(12,8))\n",
    "ax[0].plot(expire_list,future_rate*100,\".-\",\n",
    "         expire_list,optimize_future_rate*100,\".-\")\n",
    "ax[0].legend([\"Actual\",\"Fit\"],loc='best')\n",
    "ax[0].set_title(\"Forwards Rate\");\n",
    "\n",
    "optimize_vol = np.array([fwd_rate_sig(t1,t1,t1+0.25,r0,p_last,dist = 'F') for t1 in np.arange(1,20)*0.25])\n",
    "# vol['Optimized'] = [fwd_rate_sig(T1,T1,T1+0.25,0.01,res[0],'Q',acrual=0.25) for T1 in np.arange(1,20)*0.25]\n",
    "# vol.loc[:,['Vol','Optimized']].plot()\n",
    "# print \"parameter is:\",res[0]\n",
    "ax[1].plot(np.arange(1,20)*0.25,optimize_vol,'.-',np.arange(1,20)*0.25,vol['Vol'],'.-')\n",
    "ax[1].legend([\"Actual\",\"Fit\"],loc='best')\n",
    "ax[1].set_title(\"Volatility\");"
   ]
  },
  {
   "cell_type": "markdown",
   "metadata": {},
   "source": [
    "### 7 Analyze the Result\n",
    "\n",
    "1. I derive and implement the two factor Ho Lee model for the futures rate.\n",
    "\n",
    "2. We model the TSM model and calibrate the parameter. Then I found that the condition number is large for the hessian matrix. It seems to be close to singular matrix because the sig1,sig2 and rho has little effect to the futures rate. In this part, I used the forward rates instead, because the futures rate in our model is always a straight line. We use a simple ridge regression to deal with the collinearity. Unfortunately, it has little effect on the model. (for the futures rate, it should minus **0.5**($\\sigma_1^2+\\sigma_2^2+2\\rho\\sigma_1\\sigma_2$)\n",
    "\n",
    "3. We use the DNS model to fit the rate. It fits well and with no collinearity problem.\n",
    "\n",
    "4. We derive the model for the volatility.\n",
    "\n",
    "5. We use the least square to find the parameter. The model is really sensitive to the initial value. There is less collinearity than the rate.\n",
    "\n",
    "6. We use joint fit to fit the model. The mean parameter have more influence on the rate and the volatility and correlation parameter have more influence on the volatility side.\n",
    "\n",
    "7. There are several questions. It seems to me that when I calculate the Jacobian matrix, the condition number for the Hessian matrix is always so large. So I cannot decide whether the PCA or Ridge have solved the collinearity."
   ]
  }
 ],
 "metadata": {
  "anaconda-cloud": {},
  "kernelspec": {
   "display_name": "Python [conda root]",
   "language": "python",
   "name": "conda-root-py"
  },
  "language_info": {
   "codemirror_mode": {
    "name": "ipython",
    "version": 2
   },
   "file_extension": ".py",
   "mimetype": "text/x-python",
   "name": "python",
   "nbconvert_exporter": "python",
   "pygments_lexer": "ipython2",
   "version": "2.7.12"
  }
 },
 "nbformat": 4,
 "nbformat_minor": 0
}
